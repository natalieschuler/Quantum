{
 "cells": [
  {
   "cell_type": "markdown",
   "id": "08234a0e-7750-424d-b145-6374d7730bcb",
   "metadata": {},
   "source": [
    "<h1>Problem Set 1: Python Component</h1>\n",
    "<h2>Preliminary Examples</h2>\n",
    "<h3>Text Editing</h3>\n",
    "In Jupyter notebooks, blocks of text can be written by clicking the \"+\" button to make a new cell, clicking inside the cell to write in it, and then selecting \"Markdown\" in the drop-down list to the left of the keyboard.  In cells that already have text, one can click on the text and edit it directly, which you can test below."
   ]
  },
  {
   "cell_type": "markdown",
   "id": "269896a7",
   "metadata": {},
   "source": [
    "(Feel free to edit this sentence to test the above.)"
   ]
  },
  {
   "cell_type": "markdown",
   "id": "d94c133a",
   "metadata": {},
   "source": [
    "Alternatively, text can be written in the form of comments.  Comments are written by selecting \"Code\" in the dropdown menu and beginning the line with a pound sign (#, also known as a hashtag or an octothorpe)."
   ]
  },
  {
   "cell_type": "code",
   "execution_count": 9,
   "id": "42ec96da",
   "metadata": {},
   "outputs": [],
   "source": [
    "# Feel free to edit this sentence to test the above."
   ]
  },
  {
   "cell_type": "markdown",
   "id": "4c77331f",
   "metadata": {},
   "source": [
    "<h3>Equation Editing</h3>\n",
    "Python can be used to write equations in LaTeX (https://www.latex-project.org/) a common language used to typeset equations in journal articles. One way to write LaTeX equations is to write the LaTeX code inside of dollar signs, as in the example below. "
   ]
  },
  {
   "cell_type": "markdown",
   "id": "28094cc5",
   "metadata": {},
   "source": [
    "$f(x)=\\sin(x)$"
   ]
  },
  {
   "cell_type": "markdown",
   "id": "15110a5d",
   "metadata": {},
   "source": [
    "$g(x)=2x$"
   ]
  },
  {
   "cell_type": "markdown",
   "id": "eddc66f4",
   "metadata": {},
   "source": [
    "<h2>Symbolic Manipulation </h2>\n",
    "The Python SymPy package provides a way to symbolically manipulate expressions, which facilitates analytic approaches. Like WolframAlpha, Mathematica, or Maple, SymPy offers a convenient tool for checking by-hand calculations of quantities such as differentiation and integration."
   ]
  },
  {
   "cell_type": "markdown",
   "id": "bd3da76a",
   "metadata": {},
   "source": [
    "The next block imports the SymPy and is required to use the package in the program (note SymPy must already be installed)."
   ]
  },
  {
   "cell_type": "code",
   "execution_count": 2,
   "id": "5cfe25c8",
   "metadata": {},
   "outputs": [],
   "source": [
    "from sympy import *"
   ]
  },
  {
   "cell_type": "markdown",
   "id": "108c39d7",
   "metadata": {},
   "source": [
    "To write an equation, first define a variable."
   ]
  },
  {
   "cell_type": "code",
   "execution_count": 3,
   "id": "ac54a1b2",
   "metadata": {},
   "outputs": [],
   "source": [
    "x=symbols('x')"
   ]
  },
  {
   "cell_type": "markdown",
   "id": "7a874172",
   "metadata": {},
   "source": [
    "Next, define the function <b>f</b>."
   ]
  },
  {
   "cell_type": "code",
   "execution_count": 4,
   "id": "50ed89ae",
   "metadata": {},
   "outputs": [],
   "source": [
    "f=sin(x)"
   ]
  },
  {
   "cell_type": "markdown",
   "id": "0158faf0",
   "metadata": {},
   "source": [
    "To print the function, type the name of the function alone."
   ]
  },
  {
   "cell_type": "code",
   "execution_count": 5,
   "id": "d4503447",
   "metadata": {},
   "outputs": [
    {
     "data": {
      "text/latex": [
       "$\\displaystyle \\sin{\\left(x \\right)}$"
      ],
      "text/plain": [
       "sin(x)"
      ]
     },
     "execution_count": 5,
     "metadata": {},
     "output_type": "execute_result"
    }
   ],
   "source": [
    "f"
   ]
  },
  {
   "cell_type": "markdown",
   "id": "332adcbb",
   "metadata": {},
   "source": [
    "The value of a function for a particular variable value is determined with <b>subs()</b>."
   ]
  },
  {
   "cell_type": "code",
   "execution_count": 6,
   "id": "4e39bb9b",
   "metadata": {},
   "outputs": [
    {
     "data": {
      "text/latex": [
       "$\\displaystyle 0.479425538604203$"
      ],
      "text/plain": [
       "0.479425538604203"
      ]
     },
     "execution_count": 6,
     "metadata": {},
     "output_type": "execute_result"
    }
   ],
   "source": [
    "f.subs(x,0.5)"
   ]
  },
  {
   "cell_type": "markdown",
   "id": "d5fa3613",
   "metadata": {},
   "source": [
    "Use <b>diff</b> to calculate the derivative."
   ]
  },
  {
   "cell_type": "code",
   "execution_count": 7,
   "id": "84249cb8",
   "metadata": {},
   "outputs": [
    {
     "data": {
      "text/latex": [
       "$\\displaystyle \\cos{\\left(x \\right)}$"
      ],
      "text/plain": [
       "cos(x)"
      ]
     },
     "execution_count": 7,
     "metadata": {},
     "output_type": "execute_result"
    }
   ],
   "source": [
    "diff(f,x)"
   ]
  },
  {
   "cell_type": "markdown",
   "id": "99c57aaf",
   "metadata": {},
   "source": [
    "Use <b>integrate</b> to calculate the integral."
   ]
  },
  {
   "cell_type": "code",
   "execution_count": 8,
   "id": "e5ecc507",
   "metadata": {},
   "outputs": [
    {
     "data": {
      "text/latex": [
       "$\\displaystyle - \\cos{\\left(x \\right)}$"
      ],
      "text/plain": [
       "-cos(x)"
      ]
     },
     "execution_count": 8,
     "metadata": {},
     "output_type": "execute_result"
    }
   ],
   "source": [
    "integrate(f,x)"
   ]
  },
  {
   "cell_type": "markdown",
   "id": "f10640c6",
   "metadata": {},
   "source": [
    "Calculate the Taylor series to a given order (say, 5th order) with <b>series</b>."
   ]
  },
  {
   "cell_type": "code",
   "execution_count": 8,
   "id": "8ae6a412",
   "metadata": {},
   "outputs": [
    {
     "data": {
      "text/latex": [
       "$\\displaystyle x - \\frac{x^{3}}{6} + \\frac{x^{5}}{120} + O\\left(x^{6}\\right)$"
      ],
      "text/plain": [
       "x - x**3/6 + x**5/120 + O(x**6)"
      ]
     },
     "execution_count": 8,
     "metadata": {},
     "output_type": "execute_result"
    }
   ],
   "source": [
    "series(f,x,n=6)"
   ]
  },
  {
   "cell_type": "markdown",
   "id": "585ef21d",
   "metadata": {},
   "source": [
    "Calculate a power of the function using the double asterisk."
   ]
  },
  {
   "cell_type": "code",
   "execution_count": 9,
   "id": "fa25e4b9",
   "metadata": {},
   "outputs": [
    {
     "data": {
      "text/latex": [
       "$\\displaystyle \\sin^{2}{\\left(x \\right)}$"
      ],
      "text/plain": [
       "sin(x)**2"
      ]
     },
     "execution_count": 9,
     "metadata": {},
     "output_type": "execute_result"
    }
   ],
   "source": [
    "f**2"
   ]
  },
  {
   "cell_type": "markdown",
   "id": "667b6ca4",
   "metadata": {},
   "source": [
    "Expand a function with <b>expand</b> and simplify it with <b>simplify</b>."
   ]
  },
  {
   "cell_type": "code",
   "execution_count": 10,
   "id": "89da72b8-1965-467f-a7ed-370c32792724",
   "metadata": {},
   "outputs": [
    {
     "data": {
      "text/latex": [
       "$\\displaystyle 2 x^{2} + 10 x + 12$"
      ],
      "text/plain": [
       "2*x**2 + 10*x + 12"
      ]
     },
     "execution_count": 10,
     "metadata": {},
     "output_type": "execute_result"
    }
   ],
   "source": [
    "expand(2*(x+3)*(x+2))"
   ]
  },
  {
   "cell_type": "code",
   "execution_count": 11,
   "id": "894d4d50",
   "metadata": {},
   "outputs": [
    {
     "data": {
      "text/latex": [
       "$\\displaystyle 2 x^{2} + 10 x + 12$"
      ],
      "text/plain": [
       "2*x**2 + 10*x + 12"
      ]
     },
     "execution_count": 11,
     "metadata": {},
     "output_type": "execute_result"
    }
   ],
   "source": [
    "simplify(2*(x**2+5*x+6))"
   ]
  },
  {
   "cell_type": "markdown",
   "id": "d2f0cfd4",
   "metadata": {},
   "source": [
    "Summations, useful for both wavefunction expansions and partition functions, are defined with <b>Sum</b>."
   ]
  },
  {
   "cell_type": "code",
   "execution_count": 11,
   "id": "d15c97ec-e075-4214-a19f-41f577757e6a",
   "metadata": {},
   "outputs": [
    {
     "data": {
      "text/latex": [
       "$\\displaystyle \\sum_{n=1}^{100} n$"
      ],
      "text/plain": [
       "Sum(n, (n, 1, 100))"
      ]
     },
     "execution_count": 11,
     "metadata": {},
     "output_type": "execute_result"
    }
   ],
   "source": [
    "n=symbols('n')\n",
    "gauss_sum = Sum(n,(n,1,100))\n",
    "gauss_sum"
   ]
  },
  {
   "cell_type": "markdown",
   "id": "09178406",
   "metadata": {},
   "source": [
    "The value of a function is determined by using <b>evalf()</b>."
   ]
  },
  {
   "cell_type": "code",
   "execution_count": 13,
   "id": "61273183",
   "metadata": {},
   "outputs": [
    {
     "data": {
      "text/latex": [
       "$\\displaystyle 5050.0$"
      ],
      "text/plain": [
       "5050.00000000000"
      ]
     },
     "execution_count": 13,
     "metadata": {},
     "output_type": "execute_result"
    }
   ],
   "source": [
    "gauss_sum.evalf()"
   ]
  },
  {
   "cell_type": "markdown",
   "id": "c92d4a0e",
   "metadata": {},
   "source": [
    "Note subs and evalf can be used in conjunction."
   ]
  },
  {
   "cell_type": "code",
   "execution_count": 14,
   "id": "35a994f0",
   "metadata": {},
   "outputs": [
    {
     "data": {
      "text/latex": [
       "$\\displaystyle 0.648721270700128$"
      ],
      "text/plain": [
       "0.648721270700128"
      ]
     },
     "execution_count": 14,
     "metadata": {},
     "output_type": "execute_result"
    }
   ],
   "source": [
    "taylor_exponential = Sum(x**n/factorial(n),(n,1,100))\n",
    "taylor_exponential.subs(x,0.5).evalf()"
   ]
  },
  {
   "cell_type": "markdown",
   "id": "86567339",
   "metadata": {},
   "source": [
    "SymPy can be used to make plots with <b>plot</b>."
   ]
  },
  {
   "cell_type": "code",
   "execution_count": 15,
   "id": "000ce6b9",
   "metadata": {},
   "outputs": [
    {
     "data": {
      "image/png": "[encoded data removed]",
      "text/plain": [
       "<Figure size 640x480 with 1 Axes>"
      ]
     },
     "metadata": {},
     "output_type": "display_data"
    }
   ],
   "source": [
    "p=plot(f,(x,-2,2),xlabel='x',ylabel='f(x)',title='Sine Function')"
   ]
  },
  {
   "cell_type": "code",
   "execution_count": 16,
   "id": "532325aa",
   "metadata": {},
   "outputs": [
    {
     "data": {
      "image/png": "[encoded data removed]",
      "text/plain": [
       "<Figure size 640x480 with 1 Axes>"
      ]
     },
     "metadata": {},
     "output_type": "display_data"
    }
   ],
   "source": [
    "p=plot(f,f**2,(x,-2,2),xlabel='x',ylabel='f(x)',title='Sine and Sine Squared Functions',legend=True,show=False)\n",
    "p.show()"
   ]
  },
  {
   "cell_type": "markdown",
   "id": "e7c0c27c",
   "metadata": {},
   "source": [
    "<h2>Python Functions</h2>"
   ]
  },
  {
   "cell_type": "markdown",
   "id": "cb09d31e",
   "metadata": {},
   "source": [
    "Python can be used to define functions using <b>lambdify</b>."
   ]
  },
  {
   "cell_type": "code",
   "execution_count": 16,
   "id": "de46c611",
   "metadata": {},
   "outputs": [],
   "source": [
    "lambda_g=lambdify(x,2*x)"
   ]
  },
  {
   "cell_type": "markdown",
   "id": "4ba59379",
   "metadata": {},
   "source": [
    "Alternatively, Python functions can be defined as follows."
   ]
  },
  {
   "cell_type": "code",
   "execution_count": 17,
   "id": "162b185c",
   "metadata": {},
   "outputs": [],
   "source": [
    "def lambda_g(x):\n",
    "    return 2*x"
   ]
  },
  {
   "cell_type": "markdown",
   "id": "98453226",
   "metadata": {},
   "source": [
    "Python functions can then be evaluated directly without using subs()."
   ]
  },
  {
   "cell_type": "code",
   "execution_count": 19,
   "id": "ea6af4f6",
   "metadata": {},
   "outputs": [
    {
     "data": {
      "text/plain": [
       "1.0"
      ]
     },
     "execution_count": 19,
     "metadata": {},
     "output_type": "execute_result"
    }
   ],
   "source": [
    "lambda_g(0.5)"
   ]
  },
  {
   "cell_type": "markdown",
   "id": "c9c6e709",
   "metadata": {},
   "source": [
    "Python functions can also be called for an array (akin to a matrix) of values using NumPy."
   ]
  },
  {
   "cell_type": "markdown",
   "id": "b199900d",
   "metadata": {},
   "source": [
    "First, load numpy."
   ]
  },
  {
   "cell_type": "code",
   "execution_count": 18,
   "id": "a36aafa2",
   "metadata": {},
   "outputs": [],
   "source": [
    "import numpy as np"
   ]
  },
  {
   "cell_type": "markdown",
   "id": "cde9ae4b",
   "metadata": {},
   "source": [
    "Define the array of inputs."
   ]
  },
  {
   "cell_type": "code",
   "execution_count": 1,
   "id": "d6592312",
   "metadata": {},
   "outputs": [
    {
     "ename": "NameError",
     "evalue": "name 'np' is not defined",
     "output_type": "error",
     "traceback": [
      "\u001b[1;31m---------------------------------------------------------------------------\u001b[0m",
      "\u001b[1;31mNameError\u001b[0m                                 Traceback (most recent call last)",
      "Cell \u001b[1;32mIn[1], line 1\u001b[0m\n\u001b[1;32m----> 1\u001b[0m inputs \u001b[38;5;241m=\u001b[39m \u001b[43mnp\u001b[49m\u001b[38;5;241m.\u001b[39marray([\u001b[38;5;241m0\u001b[39m,\u001b[38;5;241m1\u001b[39m,\u001b[38;5;241m2\u001b[39m,\u001b[38;5;241m3\u001b[39m])\n",
      "\u001b[1;31mNameError\u001b[0m: name 'np' is not defined"
     ]
    }
   ],
   "source": [
    "inputs = np.array([0,1,2,3])"
   ]
  },
  {
   "cell_type": "code",
   "execution_count": null,
   "id": "e0da6769",
   "metadata": {},
   "outputs": [],
   "source": [
    "inputs = np.array([0,1,2,3])\n",
    "print('Inputs = ' , inputs)"
   ]
  },
  {
   "cell_type": "markdown",
   "id": "78093366",
   "metadata": {},
   "source": [
    "Print the inputs."
   ]
  },
  {
   "cell_type": "code",
   "execution_count": 20,
   "id": "a7a6b541",
   "metadata": {},
   "outputs": [
    {
     "name": "stdout",
     "output_type": "stream",
     "text": [
      "Inputs =  [0 1 2 3]\n"
     ]
    }
   ],
   "source": [
    "print('Inputs = ' , inputs)"
   ]
  },
  {
   "cell_type": "markdown",
   "id": "d26a935d",
   "metadata": {},
   "source": [
    "Evaluate the outputs."
   ]
  },
  {
   "cell_type": "code",
   "execution_count": 21,
   "id": "fe68efd4",
   "metadata": {},
   "outputs": [
    {
     "name": "stdout",
     "output_type": "stream",
     "text": [
      "Outputs =  [0 2 4 6]\n"
     ]
    }
   ],
   "source": [
    "print('Outputs = ', lambda_g(inputs))"
   ]
  },
  {
   "cell_type": "markdown",
   "id": "68dee721",
   "metadata": {},
   "source": [
    "NumPy also contains certain preset values such as <b>np.pi</b> and functions such as <b>np.sin()</b>, <b>np.cos()</b>, and <b>np.exp()</b>. Note in numerical calculations there may be small errors due to computational issues such as machine precision."
   ]
  },
  {
   "cell_type": "code",
   "execution_count": 22,
   "id": "918a29b1",
   "metadata": {},
   "outputs": [
    {
     "name": "stdout",
     "output_type": "stream",
     "text": [
      "1.2246467991473532e-16\n",
      "-1.0\n",
      "1.0\n"
     ]
    }
   ],
   "source": [
    "print(np.sin(np.pi)) # Exact result is 0.\n",
    "print(np.cos(np.pi)) # Exact result is -1.\n",
    "print(np.exp(0)) # Exact result is 1."
   ]
  },
  {
   "cell_type": "markdown",
   "id": "24c63b79",
   "metadata": {},
   "source": [
    "Plotting NumPy arrays requires MatPlotLib."
   ]
  },
  {
   "cell_type": "code",
   "execution_count": 23,
   "id": "d610fc7a",
   "metadata": {},
   "outputs": [],
   "source": [
    "import matplotlib.pyplot as plt"
   ]
  },
  {
   "cell_type": "markdown",
   "id": "c5b55057",
   "metadata": {},
   "source": [
    "To use MatPlotLib, define an array of input values, for example with <b>arange(a,b,c)</b>, which defines an array of values starting at a, spaced apart by c, until b is reached."
   ]
  },
  {
   "cell_type": "code",
   "execution_count": 24,
   "id": "26c5a878",
   "metadata": {},
   "outputs": [],
   "source": [
    "inputarray = np.arange(-5.0, 5.0, 0.1)"
   ]
  },
  {
   "cell_type": "markdown",
   "id": "f8b768eb",
   "metadata": {},
   "source": [
    "As before, the output array is generated as follows."
   ]
  },
  {
   "cell_type": "code",
   "execution_count": 25,
   "id": "d8525a1d",
   "metadata": {},
   "outputs": [],
   "source": [
    "outputarray=lambda_g(inputarray)"
   ]
  },
  {
   "cell_type": "markdown",
   "id": "fb3fdb48",
   "metadata": {},
   "source": [
    "The function is then plotted as follows."
   ]
  },
  {
   "cell_type": "code",
   "execution_count": 26,
   "id": "1665a75d",
   "metadata": {},
   "outputs": [
    {
     "data": {
      "text/plain": [
       "Text(0, 0.5, 'g(x)')"
      ]
     },
     "execution_count": 26,
     "metadata": {},
     "output_type": "execute_result"
    },
    {
     "data": {
      "image/png": "[encoded data removed]",
      "text/plain": [
       "<Figure size 640x480 with 1 Axes>"
      ]
     },
     "metadata": {},
     "output_type": "display_data"
    }
   ],
   "source": [
    "plt.plot(inputarray, outputarray)\n",
    "plt.title('Linear Function')\n",
    "plt.xlabel('x')\n",
    "plt.ylabel('g(x)')"
   ]
  },
  {
   "cell_type": "markdown",
   "id": "b4563e47",
   "metadata": {},
   "source": [
    "<h2>Numerical Calculations</h2>\n",
    "NumPy and SciPy packages are used for numerical calculations."
   ]
  },
  {
   "cell_type": "markdown",
   "id": "6414559b",
   "metadata": {},
   "source": [
    "First, load math, NumPy, and SciPy."
   ]
  },
  {
   "cell_type": "code",
   "execution_count": 27,
   "id": "b56fdc35",
   "metadata": {},
   "outputs": [],
   "source": [
    "import math\n",
    "import numpy as np\n",
    "\n",
    "import scipy.integrate\n",
    "import scipy.optimize"
   ]
  },
  {
   "cell_type": "markdown",
   "id": "e90c2585",
   "metadata": {},
   "source": [
    "NumPy can be used to generate an array of N random numbers in the domain [0.,1.) with <b>np.random.random(N)</b>."
   ]
  },
  {
   "cell_type": "code",
   "execution_count": 28,
   "id": "6cde9fc9",
   "metadata": {},
   "outputs": [],
   "source": [
    "N=10\n",
    "random_numbers = np.random.random(N)"
   ]
  },
  {
   "cell_type": "markdown",
   "id": "ff10ed25",
   "metadata": {},
   "source": [
    "The command <b>sum</b> is used to add the elements of the array along a given axis/direction (see https://numpy.org/doc/stable/reference/routines.html for details on NumPy routines)."
   ]
  },
  {
   "cell_type": "code",
   "execution_count": 29,
   "id": "b106d860",
   "metadata": {},
   "outputs": [],
   "source": [
    "random_numbers_sum=random_numbers.sum()"
   ]
  },
  {
   "cell_type": "markdown",
   "id": "9c2b433e",
   "metadata": {},
   "source": [
    "The command <b>print</b> is used to print the result of a calculation to screen."
   ]
  },
  {
   "cell_type": "code",
   "execution_count": 30,
   "id": "38294a4c",
   "metadata": {},
   "outputs": [
    {
     "name": "stdout",
     "output_type": "stream",
     "text": [
      "5.711488470426575\n"
     ]
    }
   ],
   "source": [
    "print(random_numbers_sum)"
   ]
  },
  {
   "cell_type": "markdown",
   "id": "3f31f790",
   "metadata": {},
   "source": [
    "Arrays are added with \"+\"."
   ]
  },
  {
   "cell_type": "code",
   "execution_count": 31,
   "id": "ef31aa2a",
   "metadata": {},
   "outputs": [
    {
     "name": "stdout",
     "output_type": "stream",
     "text": [
      "[1.95753379 0.17188856 1.29671823 0.49199524 1.29472583 0.89599277\n",
      " 1.32993573 1.29094699 0.9617159  1.73152392]\n"
     ]
    }
   ],
   "source": [
    "print(random_numbers + random_numbers)"
   ]
  },
  {
   "cell_type": "markdown",
   "id": "32267189",
   "metadata": {},
   "source": [
    "Arrays are multiplied by a scalar with \"*\"."
   ]
  },
  {
   "cell_type": "code",
   "execution_count": 32,
   "id": "9d3cf1b1",
   "metadata": {},
   "outputs": [
    {
     "name": "stdout",
     "output_type": "stream",
     "text": [
      "[1.95753379 0.17188856 1.29671823 0.49199524 1.29472583 0.89599277\n",
      " 1.32993573 1.29094699 0.9617159  1.73152392]\n"
     ]
    }
   ],
   "source": [
    "print(2*random_numbers)"
   ]
  },
  {
   "cell_type": "markdown",
   "id": "36c8787c",
   "metadata": {},
   "source": [
    "Elementwise multiplication is also performed with \"*\"."
   ]
  },
  {
   "cell_type": "code",
   "execution_count": 33,
   "id": "201a34bc",
   "metadata": {},
   "outputs": [
    {
     "name": "stdout",
     "output_type": "stream",
     "text": [
      "[0.95798463 0.00738642 0.42036954 0.06051483 0.41907874 0.20070076\n",
      " 0.44218226 0.41663603 0.23122437 0.74954377]\n"
     ]
    }
   ],
   "source": [
    "print(random_numbers*random_numbers)"
   ]
  },
  {
   "cell_type": "markdown",
   "id": "8dd0fb0b",
   "metadata": {},
   "source": [
    "The dot (inner) product is performed with <b>dot()</b>."
   ]
  },
  {
   "cell_type": "code",
   "execution_count": 34,
   "id": "7e083c86",
   "metadata": {},
   "outputs": [
    {
     "name": "stdout",
     "output_type": "stream",
     "text": [
      "3.9056213517515244\n"
     ]
    }
   ],
   "source": [
    "print(random_numbers.dot(random_numbers))"
   ]
  },
  {
   "cell_type": "markdown",
   "id": "ec462ba0-92e2-4011-bd92-f55ae7a82fd5",
   "metadata": {},
   "source": [
    "Numerical integration is performed with <b>scipy.integrate.quad</b>."
   ]
  },
  {
   "cell_type": "code",
   "execution_count": 35,
   "id": "464a707d-7787-4929-8292-6c9184ce894d",
   "metadata": {},
   "outputs": [
    {
     "name": "stdout",
     "output_type": "stream",
     "text": [
      "Integral =  9.0\n",
      "Error Estimate =  9.992007221626409e-14\n"
     ]
    }
   ],
   "source": [
    "result,error_estimate = scipy.integrate.quad(lambda_g, 0, 3)\n",
    "print(\"Integral = \",result)\n",
    "print(\"Error Estimate = \",error_estimate)"
   ]
  },
  {
   "cell_type": "markdown",
   "id": "49a9cd2e-48d9-4a74-a500-73774e43b358",
   "metadata": {},
   "source": [
    "The location of the minimum of a function is found with <b>scipy.optimize.minimize</b> near a starting guess. "
   ]
  },
  {
   "cell_type": "code",
   "execution_count": 36,
   "id": "e4c81eee-6308-491a-8a37-50af319a8117",
   "metadata": {},
   "outputs": [
    {
     "data": {
      "text/plain": [
       "np.float64(-1.888464007393509e-08)"
      ]
     },
     "execution_count": 36,
     "metadata": {},
     "output_type": "execute_result"
    }
   ],
   "source": [
    "lambda_h = lambdify(x, x**2)\n",
    "value=2 # Starting guess\n",
    "result = scipy.optimize.minimize(lambda_h,value)\n",
    "result.x[0] # Exact result is zero."
   ]
  },
  {
   "cell_type": "markdown",
   "id": "0e52a47d-3dc5-45ac-b797-061e07aec1a8",
   "metadata": {},
   "source": [
    "<h2>Matrix Manipulations</h2>\n",
    "This course relies heavily on matrix approaches to quantum problems, for which NumPy is especially apt."
   ]
  },
  {
   "cell_type": "markdown",
   "id": "2d9097b1",
   "metadata": {},
   "source": [
    "Matrices full of zeros of size $M\\times N$ are defined with <b>np.zeros</b>."
   ]
  },
  {
   "cell_type": "code",
   "execution_count": 37,
   "id": "1e27f5dd",
   "metadata": {},
   "outputs": [
    {
     "name": "stdout",
     "output_type": "stream",
     "text": [
      "[[0. 0. 0. 0. 0.]\n",
      " [0. 0. 0. 0. 0.]\n",
      " [0. 0. 0. 0. 0.]]\n"
     ]
    }
   ],
   "source": [
    "M=3\n",
    "N=5\n",
    "A=np.zeros((M,N))\n",
    "print(A)"
   ]
  },
  {
   "cell_type": "markdown",
   "id": "db7afd7a",
   "metadata": {},
   "source": [
    "Matrices are then filled with a double loop over the $M$ rows and $N$ columns. For example, a matrix with elements given by\n",
    "$$ A_{ij}=ij+1$$\n",
    "is defined as follows."
   ]
  },
  {
   "cell_type": "code",
   "execution_count": 38,
   "id": "3457881e-6b13-4b7c-afd7-f783bbf03e87",
   "metadata": {},
   "outputs": [
    {
     "name": "stdout",
     "output_type": "stream",
     "text": [
      "[[1. 1. 1. 1. 1.]\n",
      " [1. 2. 3. 4. 5.]\n",
      " [1. 3. 5. 7. 9.]]\n"
     ]
    }
   ],
   "source": [
    "A=np.zeros((M,N))\n",
    "for i in range(0,M):\n",
    "    for j in range(0,N):\n",
    "        A[i,j]=i*j+1\n",
    "print(A)"
   ]
  },
  {
   "cell_type": "markdown",
   "id": "b1fa54b7",
   "metadata": {},
   "source": [
    "Complex matrices are likewise defined as follows (note <b>1j</b> is equal to $\\text{i}=\\sqrt{-1}$)."
   ]
  },
  {
   "cell_type": "code",
   "execution_count": 40,
   "id": "d138f18b",
   "metadata": {},
   "outputs": [
    {
     "name": "stdout",
     "output_type": "stream",
     "text": [
      "[[0.+1.j 0.+1.j 0.+1.j 0.+1.j 0.+1.j]\n",
      " [0.+1.j 1.+1.j 2.+1.j 3.+1.j 4.+1.j]\n",
      " [0.+1.j 2.+1.j 4.+1.j 6.+1.j 8.+1.j]]\n"
     ]
    }
   ],
   "source": [
    "B=np.zeros((M,N),dtype=complex)\n",
    "for i in range(0,M):\n",
    "    for j in range(0,N):\n",
    "        B[i,j]=i*j+1j\n",
    "print(B)"
   ]
  },
  {
   "cell_type": "markdown",
   "id": "88dd9fe6",
   "metadata": {},
   "source": [
    "The transpose of a matrix is calculated with <b>transpose()</b>."
   ]
  },
  {
   "cell_type": "code",
   "execution_count": 41,
   "id": "0cc8d4fd",
   "metadata": {},
   "outputs": [
    {
     "name": "stdout",
     "output_type": "stream",
     "text": [
      "[[0.+1.j 0.+1.j 0.+1.j]\n",
      " [0.+1.j 1.+1.j 2.+1.j]\n",
      " [0.+1.j 2.+1.j 4.+1.j]\n",
      " [0.+1.j 3.+1.j 6.+1.j]\n",
      " [0.+1.j 4.+1.j 8.+1.j]]\n"
     ]
    }
   ],
   "source": [
    "print(B.transpose())"
   ]
  },
  {
   "cell_type": "markdown",
   "id": "8b02e947",
   "metadata": {},
   "source": [
    "The complex conjugate of a matrix is calculated with <b>conjugate()</b> (note <b>1j</b> is equal to $\\text{i}=\\sqrt{-1}$)."
   ]
  },
  {
   "cell_type": "code",
   "execution_count": 42,
   "id": "3633ed45",
   "metadata": {},
   "outputs": [
    {
     "name": "stdout",
     "output_type": "stream",
     "text": [
      "[[0.-1.j 0.-1.j 0.-1.j 0.-1.j 0.-1.j]\n",
      " [0.-1.j 1.-1.j 2.-1.j 3.-1.j 4.-1.j]\n",
      " [0.-1.j 2.-1.j 4.-1.j 6.-1.j 8.-1.j]]\n"
     ]
    }
   ],
   "source": [
    "print(B.conjugate())"
   ]
  },
  {
   "cell_type": "markdown",
   "id": "8efd71f9",
   "metadata": {},
   "source": [
    "Matrices are added with \"+\"."
   ]
  },
  {
   "cell_type": "code",
   "execution_count": 43,
   "id": "530b8e78-4cbf-4fe9-858f-81234c3901dc",
   "metadata": {},
   "outputs": [
    {
     "name": "stdout",
     "output_type": "stream",
     "text": [
      "[[ 2.  2.  2.  2.  2.]\n",
      " [ 2.  4.  6.  8. 10.]\n",
      " [ 2.  6. 10. 14. 18.]]\n"
     ]
    }
   ],
   "source": [
    "print(A+A)"
   ]
  },
  {
   "cell_type": "markdown",
   "id": "0ce7c082",
   "metadata": {},
   "source": [
    "Elementwise multiplication is performed with \"*\"."
   ]
  },
  {
   "cell_type": "code",
   "execution_count": 44,
   "id": "18ffe10c",
   "metadata": {},
   "outputs": [
    {
     "name": "stdout",
     "output_type": "stream",
     "text": [
      "[[ 1.  1.  1.  1.  1.]\n",
      " [ 1.  4.  9. 16. 25.]\n",
      " [ 1.  9. 25. 49. 81.]]\n"
     ]
    }
   ],
   "source": [
    "print(A*A)"
   ]
  },
  {
   "cell_type": "markdown",
   "id": "de185edd",
   "metadata": {},
   "source": [
    "Matrix multiplication is performed with \"@\"."
   ]
  },
  {
   "cell_type": "code",
   "execution_count": 45,
   "id": "dd40858f",
   "metadata": {},
   "outputs": [
    {
     "name": "stdout",
     "output_type": "stream",
     "text": [
      "[[  5.  15.  25.]\n",
      " [ 15.  55.  95.]\n",
      " [ 25.  95. 165.]]\n"
     ]
    }
   ],
   "source": [
    "C=A@A.transpose()\n",
    "print(C)"
   ]
  },
  {
   "cell_type": "markdown",
   "id": "9e2c5589",
   "metadata": {},
   "source": [
    "The eigenvalues and eigenvectors of Hermitian matrices (including symmetric matrices) that are commonly used in quantum mechanics can be computed with <b>np.linalg.eigh()</b>."
   ]
  },
  {
   "cell_type": "code",
   "execution_count": 46,
   "id": "87dc6951-a94e-4a3b-9750-70decbe98415",
   "metadata": {},
   "outputs": [
    {
     "name": "stdout",
     "output_type": "stream",
     "text": [
      "4.6383121397700565e-14\n",
      "[ 0.40824829 -0.81649658  0.40824829]\n"
     ]
    }
   ],
   "source": [
    "eigenvalues, eigenvecs = np.linalg.eigh(C)\n",
    "index=0 # Index of desired eigensolution beginning with 0.\n",
    "print(eigenvalues[index])\n",
    "print(eigenvecs[:,index])"
   ]
  },
  {
   "cell_type": "markdown",
   "id": "22716179",
   "metadata": {},
   "source": [
    "<h1>Problem Set Exercise</h1>"
   ]
  },
  {
   "cell_type": "markdown",
   "id": "9a6bb738",
   "metadata": {},
   "source": [
    "1. Plot the wavefunctions $\\psi_0(x)=(1/\\pi)^{1/4}\\exp(-x^2/2)$ and $\\psi_1(x)=(4/\\pi)^{1/4}x\\exp(-x^2/2)$."
   ]
  },
  {
   "cell_type": "code",
   "execution_count": 1,
   "id": "7a74b24e",
   "metadata": {},
   "outputs": [
    {
     "name": "stderr",
     "output_type": "stream",
     "text": [
      "<>:26: SyntaxWarning: invalid escape sequence '\\p'\n",
      "<>:26: SyntaxWarning: invalid escape sequence '\\p'\n",
      "C:\\Users\\wergh\\AppData\\Local\\Temp\\ipykernel_14640\\3764428024.py:26: SyntaxWarning: invalid escape sequence '\\p'\n",
      "  plt.title('Wavefunctions $\\psi_0(x)$ and $\\psi_1(x)$')\n"
     ]
    },
    {
     "data": {
      "image/png": "[encoded data removed]",
      "text/plain": [
       "<Figure size 1000x600 with 1 Axes>"
      ]
     },
     "metadata": {},
     "output_type": "display_data"
    },
    {
     "name": "stdout",
     "output_type": "stream",
     "text": [
      "Real part of inner product: 0.00000\n",
      "Imaginary part of inner product: 0.00000\n"
     ]
    }
   ],
   "source": [
    "## 1&2 SOLUTIONS\n",
    "import numpy as np\n",
    "import scipy.integrate\n",
    "import matplotlib.pyplot as plt\n",
    "\n",
    "def psi_0(x):\n",
    "    return (1/np.pi)**(1/4) * np.exp(-x**2 / 2) # already normalized - irrelevant to orthogonality analysis\n",
    "\n",
    "def psi_1(x):\n",
    "    return (4/np.pi)**(1/4) * x * np.exp(-x**2 / 2) # already normalized\n",
    "\n",
    "def inner_product_integrand(x):\n",
    "    return psi_0(x) * np.conj(psi_1(x))\n",
    "\n",
    "x = np.linspace(-5, 5, 400)\n",
    "\n",
    "psi_0_values = psi_0(x)\n",
    "psi_1_values = psi_1(x)\n",
    "\n",
    "plt.figure(figsize=(10, 6))\n",
    "\n",
    "plt.plot(x, psi_0_values, label=r'$\\psi_0(x)$', color='blue')\n",
    "plt.plot(x, psi_1_values, label=r'$\\psi_1(x)$', color='red')\n",
    "\n",
    "plt.xlabel('x')\n",
    "plt.ylabel(r'$\\psi(x)$')\n",
    "plt.title('Wavefunctions $\\psi_0(x)$ and $\\psi_1(x)$')\n",
    "plt.legend()\n",
    "plt.grid(True)\n",
    "\n",
    "# plt.savefig('4(d).pdf')\n",
    "plt.show()\n",
    "\n",
    "\"\"\"\n",
    "quad(function, initial, final) - integrate function from intial to final value\n",
    "Here we integrate from -10 to +10.\n",
    "If both real and complex parts of inner product are zero, we can say two functions are orthogonal to each other.\n",
    "\"\"\"\n",
    "inner_product_real, inner_product_complex = scipy.integrate.quad(inner_product_integrand, -10, 10)\n",
    "\n",
    "\n",
    "print(f'Real part of inner product: {inner_product_real:.5f}')\n",
    "print(f'Imaginary part of inner product: {inner_product_complex:.5f}')"
   ]
  },
  {
   "cell_type": "markdown",
   "id": "3bee6d67",
   "metadata": {},
   "source": [
    "2. Show that $\\psi_0(x)$ and $\\psi_1(x)$ are orthonormal. (Note that if computed numerically and the output is complex, two numbers will be printed to screen - the first corresponds to the real part of the result, and the second corresponds to the imaginary part of the result. Numerical computation may lead to small deviation from exact answers.)"
   ]
  },
  {
   "cell_type": "markdown",
   "id": "754e43b3",
   "metadata": {},
   "source": [
    "2-(b) Answer"
   ]
  },
  {
   "cell_type": "code",
   "execution_count": 3,
   "id": "af8c7981",
   "metadata": {},
   "outputs": [
    {
     "name": "stderr",
     "output_type": "stream",
     "text": [
      "<>:13: SyntaxWarning: invalid escape sequence '\\h'\n",
      "<>:13: SyntaxWarning: invalid escape sequence '\\h'\n",
      "C:\\Users\\wergh\\AppData\\Local\\Temp\\ipykernel_14184\\3376455072.py:13: SyntaxWarning: invalid escape sequence '\\h'\n",
      "  plt.title('Expected Distribution of Outcomes of $\\hat{O}$')\n"
     ]
    },
    {
     "data": {
      "image/png": "[encoded data removed]",
      "text/plain": [
       "<Figure size 640x480 with 1 Axes>"
      ]
     },
     "metadata": {},
     "output_type": "display_data"
    }
   ],
   "source": [
    "import matplotlib.pyplot as plt\n",
    "\n",
    "# Data for x and y axes\n",
    "x = [1, 2, 3, 4]\n",
    "y = [0.36 * 1, 0.01 * 2 , 0.38 * 3, 0.25 * 4]\n",
    "\n",
    "# Create a scatter plot\n",
    "plt.scatter(x, y, color='blue')\n",
    "\n",
    "# Adding labels and title\n",
    "plt.xlabel('Outcomes')\n",
    "plt.ylabel('Distribution')\n",
    "plt.title('Expected Distribution of Outcomes of $\\hat{O}$')\n",
    "\n",
    "# Save and Show the plot\n",
    "# plt.savefig('2(b).pdf') # pdf로 save - plt.show() 보다 먼저 와야 제대로 작동하는듯\n",
    "plt.show()"
   ]
  }
 ],
 "metadata": {
  "kernelspec": {
   "display_name": "Python 3 (ipykernel)",
   "language": "python",
   "name": "python3"
  },
  "language_info": {
   "codemirror_mode": {
    "name": "ipython",
    "version": 3
   },
   "file_extension": ".py",
   "mimetype": "text/x-python",
   "name": "python",
   "nbconvert_exporter": "python",
   "pygments_lexer": "ipython3",
   "version": "3.12.4"
  }
 },
 "nbformat": 4,
 "nbformat_minor": 5
}
